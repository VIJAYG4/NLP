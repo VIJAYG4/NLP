{
 "cells": [
  {
   "cell_type": "markdown",
   "metadata": {},
   "source": [
    "# PART A: sentence that is misclassified by pos_tag "
   ]
  },
  {
   "cell_type": "code",
   "execution_count": 13,
   "metadata": {},
   "outputs": [
    {
     "name": "stdout",
     "output_type": "stream",
     "text": [
      "Sentence 0: That is a beautiful orange flower.\n",
      "That: DT\n",
      "is: VBZ\n",
      "a: DT\n",
      "beautiful: JJ\n",
      "orange: NN\n",
      "flower: NN\n",
      ".: .\n",
      "\n"
     ]
    }
   ],
   "source": [
    "import nltk\n",
    "from nltk.tokenize import word_tokenize, sent_tokenize\n",
    "\n",
    "sentences = sent_tokenize(\"That is a beautiful orange flower.\")\n",
    "#words = word_tokenize(\"Fish sleep.\")\n",
    "\n",
    "for i, sentence in enumerate(sentences):\n",
    "    print(f'Sentence {i}: {sentence}')\n",
    "    words = nltk.word_tokenize(sentence)\n",
    "    tags = nltk.pos_tag(words)\n",
    "    for word, tag in tags:\n",
    "        print(f'{word}: {tag}')\n",
    "    print()\n"
   ]
  },
  {
   "cell_type": "markdown",
   "metadata": {},
   "source": [
    "POS tagger output\n",
    "(That, DT) (is, VBZ) (a,DT) (beautiful,JJ) (orange,NN) (flower,NN)\n",
    "\n",
    "Expected output\n",
    "(That, DT) (is, VBZ) (a,DT) (beautiful,JJ) (orange,JJ) (flower,NN)\n",
    "\n",
    "Orange is 'adjective' but is classified wrongly as 'Noun'\n"
   ]
  },
  {
   "cell_type": "markdown",
   "metadata": {},
   "source": [
    "# groundtruth POS tags for brown corpus"
   ]
  },
  {
   "cell_type": "code",
   "execution_count": 15,
   "metadata": {},
   "outputs": [
    {
     "name": "stdout",
     "output_type": "stream",
     "text": [
      "[('The', 'DET'), ('Fulton', 'NOUN'), ('County', 'NOUN'), ('Grand', 'ADJ'), ('Jury', 'NOUN')]\n",
      "1161192\n"
     ]
    }
   ],
   "source": [
    "groundtruth_tags = nltk.corpus.brown.tagged_words(tagset='universal')\n",
    "print(groundtruth_tags[:5])\n",
    "print(len(nltk.corpus.brown.tagged_words(tagset='universal')))\n"
   ]
  },
  {
   "cell_type": "markdown",
   "metadata": {},
   "source": [
    "# calculate predicted POS tags for brown corpus using nltk.pos_tag"
   ]
  },
  {
   "cell_type": "code",
   "execution_count": 20,
   "metadata": {},
   "outputs": [
    {
     "name": "stdout",
     "output_type": "stream",
     "text": [
      "1161192\n",
      "[('The', 'DET'), ('Fulton', 'NOUN'), ('County', 'NOUN'), ('Grand', 'NOUN'), ('Jury', 'NOUN')]\n"
     ]
    }
   ],
   "source": [
    "predicted_tags = []\n",
    "groundtruth = list(zip(*groundtruth_tags))\n",
    "groundtruth_pos = groundtruth[1]\n",
    "words = groundtruth[0]\n",
    "\n",
    "predicted_tags = nltk.pos_tag(words,tagset='universal')\n",
    "print(len(predicted_tags))\n",
    "print(predicted_tags[:5])\n",
    "\n",
    "predicted = list(zip(*predicted_tags))\n",
    "predicted_pos = predicted[1]\n",
    "    \n",
    "    "
   ]
  },
  {
   "cell_type": "code",
   "execution_count": 30,
   "metadata": {},
   "outputs": [
    {
     "name": "stdout",
     "output_type": "stream",
     "text": [
      "['.', 'ADP', 'NUM', 'X', 'DET', 'VERB', 'CONJ', 'PRT', 'PRON', 'NOUN', 'ADV', 'ADJ']\n"
     ]
    }
   ],
   "source": [
    "#calculate confusion matrix\n",
    "from sklearn.metrics import confusion_matrix\n",
    "labels = list(set(groundtruth_pos))\n",
    "print(labels)\n",
    "conf_mat = confusion_matrix(groundtruth_pos, predicted_pos,labels=labels)"
   ]
  },
  {
   "cell_type": "markdown",
   "metadata": {},
   "source": [
    "# heat map of confusion matrix"
   ]
  },
  {
   "cell_type": "code",
   "execution_count": 31,
   "metadata": {},
   "outputs": [
    {
     "data": {
      "image/png": "[encoded data removed]",
      "text/plain": [
       "<Figure size 432x288 with 2 Axes>"
      ]
     },
     "metadata": {
      "needs_background": "light"
     },
     "output_type": "display_data"
    }
   ],
   "source": [
    "import numpy as np; np.random.seed(0)\n",
    "import seaborn as sns;\n",
    "ax = sns.heatmap(conf_mat)"
   ]
  },
  {
   "cell_type": "markdown",
   "metadata": {},
   "source": [
    "# Discussion:\n"
   ]
  },
  {
   "cell_type": "markdown",
   "metadata": {},
   "source": [
    "From the heatmap, we can see that 'white square' label on 9th row is predicted correctly a lot of times. So, 'Noun' label is predicted correctly often. On the other hand, 3rd row is predicted incorrectly often. That is, 'X' label is incorrectly classified. "
   ]
  },
  {
   "cell_type": "code",
   "execution_count": 33,
   "metadata": {},
   "outputs": [
    {
     "name": "stdout",
     "output_type": "stream",
     "text": [
      "[('ad', 'X', 'NOUN'), ('hoc', 'X', 'NOUN'), ('coup', 'X', 'NOUN'), (\"d'etat\", 'X', 'NOUN'), ('et', 'X', 'ADV')]\n"
     ]
    }
   ],
   "source": [
    "#words that are actually X but were predicted as other labels\n",
    "incorrect_x = []\n",
    "for i in range(len(groundtruth_pos)):\n",
    "    if groundtruth_pos[i] == 'X' and groundtruth_pos[i]!=predicted_pos[i]:\n",
    "        incorrect_x.append((words[i],groundtruth_pos[i],predicted_pos[i]))\n",
    "\n",
    "print(incorrect_x[:5])        "
   ]
  },
  {
   "cell_type": "markdown",
   "metadata": {},
   "source": [
    "# here we see that words like 'ad', 'hoc', 'coup' belongs to 'X' but are classified as 'Noun'"
   ]
  },
  {
   "cell_type": "code",
   "execution_count": null,
   "metadata": {},
   "outputs": [],
   "source": []
  }
 ],
 "metadata": {
  "kernelspec": {
   "display_name": "Python 3",
   "language": "python",
   "name": "python3"
  },
  "language_info": {
   "codemirror_mode": {
    "name": "ipython",
    "version": 3
   },
   "file_extension": ".py",
   "mimetype": "text/x-python",
   "name": "python",
   "nbconvert_exporter": "python",
   "pygments_lexer": "ipython3",
   "version": "3.7.4"
  }
 },
 "nbformat": 4,
 "nbformat_minor": 2
}
